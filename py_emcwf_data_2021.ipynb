import cdsapi
from pyprojroot import here 
 
if __name__ == '__main__':
 
    c = cdsapi.Client()
 
    COORDS = {
            "Ficco":[-33.153, -64.293],
            "La_America":[-30.935, -63.908],
            "Don_Eusebio":[-28.831, -62.332],
            "Peiretti_San_Vicente":[-31.713, -61.539],
            "SMC":[-30.257, -62.071]
            
            }
            
    VARIABLES = [
            '2m_temperature',
            'total_precipitation',
            '2m_dewpoint_temperature'
    ]
 
 
    YEARS = '2021'
 
    MONTHS = [
      '01',
      '02', 
      '03', 
      '04'
    ]
    DAYS = ['%02d'%(mn) for mn in range(1,32)]
 

    for station in COORDS: 
      station_point_coord = COORDS[station]*2 # c.retrieve() requires an area to be specified (4 values: North, West, South, East). With this trick, we can specify lat lon values instead.
      c.retrieve( # CDS API
          'reanalysis-era5-land', # Dataset
          {
              'variable': VARIABLES,
              'format': 'grib',
              'time': [
            '00:00', '01:00', '02:00',
            '03:00', '04:00', '05:00',
            '06:00', '07:00', '08:00',
            '09:00', '10:00', '11:00',
            '12:00', '13:00', '14:00',
            '15:00', '16:00', '17:00',
            '18:00', '19:00', '20:00',
            '21:00', '22:00', '23:00',
        ], 
              'day': DAYS,
              'month': MONTHS,
              'year': YEARS,
              'area': station_point_coord,
              },
         f'/home/pimpumpam/stinkbug_targets/data/ecmwf_data/metdata_era5_{station}.grib'
      )          



